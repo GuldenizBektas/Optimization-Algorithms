{
  "nbformat": 4,
  "nbformat_minor": 0,
  "metadata": {
    "colab": {
      "name": "The Less The Loss, The Better... But How?",
      "provenance": []
    },
    "kernelspec": {
      "name": "python3",
      "display_name": "Python 3"
    },
    "accelerator": "GPU"
  },
  "cells": [
    {
      "cell_type": "markdown",
      "metadata": {
        "id": "LPNXXqzE280U"
      },
      "source": [
        "# <font color = #DB7093>The Less The Loss, The Better... But How?</font>"
      ]
    },
    {
      "cell_type": "markdown",
      "metadata": {
        "id": "T99-Zh1C8KWc"
      },
      "source": [
        "Deep learning has made great success in recent years. As the datasets got bigger and the models got deeper, so did the optimization algorithms we had to use to reduce the loss of the models.\n",
        "\n",
        "Whether it's machine learning or deep learning, we always want to minimize the loss of our model. The small difference between the actual values and predicted values, increases the reliability of our future predictions."
      ]
    },
    {
      "cell_type": "markdown",
      "metadata": {
        "id": "JztoE0LSs3sc"
      },
      "source": [
        "**<font color = #BC8F8F>The goal of the optimization is to reduce the training errors, and by doing that we should be careful about overfitting.</font>**"
      ]
    },
    {
      "cell_type": "markdown",
      "metadata": {
        "id": "lSAcz7-a4f9J"
      },
      "source": [
        "<img src = https://cs231n.github.io/assets/nn3/learningrates.jpeg align = 'right' width = 650></img>"
      ]
    },
    {
      "cell_type": "markdown",
      "metadata": {
        "id": "iOrJub7Cs3ex"
      },
      "source": [
        "Loss indicates how the model is doing in terms of accuracy. By changing the loss, we can change the performance of the model we trained. To do this, we improve the performance of the new model by minimizing the current loss. Like the name o this article, ***the less the loss, the better***.\n",
        "\n",
        "> **<font color = #BC8F8F>The process of minimizing (or maximizing) any mathematical expression is called optimization.</font>**\n"
      ]
    },
    {
      "cell_type": "markdown",
      "metadata": {
        "id": "C-U-Dy_V7yZr"
      },
      "source": [
        "The learning rate determines how big the steps will be in each iteration. If the steps are big we may miss the minima. If it is small, it takes time to find the minima. **You can read [this](https://medium.com/analytics-vidhya/linear-regression-e5eecc7f26f1) article for more detailed informantion about this topic.**"
      ]
    },
    {
      "cell_type": "markdown",
      "metadata": {
        "id": "sAxdRGJGs3VJ"
      },
      "source": [
        "Optimizers are algorithms used to change attributes such as weight, learning rate to reduce loss."
      ]
    },
    {
      "cell_type": "markdown",
      "metadata": {
        "id": "eR8cHTU-3mzP"
      },
      "source": [
        "I will mention 7 optimization algorithm in this notebook.\n",
        "\n",
        "1. Stochastic Gradient Descent\n",
        "2. Mini Batch - Stochastic Gradient Descent\n",
        "3. Momentum\n",
        "4. AdaGrad\n",
        "5. AdaDelta\n",
        "6. RMSprop\n",
        "7. Adam\n",
        "8. Gradient Descent\n",
        "\n",
        "***For the 8th part, I already wrote about it. I will leave the [link](https://medium.com/analytics-vidhya/linear-regression-e5eecc7f26f1) for you to read it.***\n",
        "\n",
        "***Let's start then!***"
      ]
    },
    {
      "cell_type": "markdown",
      "metadata": {
        "id": "pYEM9nDY_BXe"
      },
      "source": [
        "# <font color = #DB7093>1. Stochastic Gradient Descent</font>"
      ]
    },
    {
      "cell_type": "markdown",
      "metadata": {
        "id": "GCsJgb3HBw1G"
      },
      "source": [
        "Unlike gradient descent, it uses the randomly selected data from the original data set instead of using the whole data set in each iteration. It is better to use the entire dataset to reach the minima less randomly, but nowadays this process is very costly as data is starting to grow. \n",
        "\n",
        "SGD algorithm as follows:\n",
        "\n",
        "```\n",
        "θ = θ − α⋅∂(J(θ;x(i),y(i)))/∂θ\n",
        "```\n",
        "Since it progresses by taking random samples from the data set in each iteration, the path to the minima will be more noisy. But it does not matter as long as we reach the minima.\n"
      ]
    },
    {
      "cell_type": "markdown",
      "metadata": {
        "id": "YMLwbOYaeJd4"
      },
      "source": [
        "![image](https://www.bogotobogo.com/python/scikit-learn/images/Batch-vs-Stochastic-Gradient-Descent/stochastic-vs-batch-gradient-descent.png)"
      ]
    },
    {
      "cell_type": "markdown",
      "metadata": {
        "id": "5pyxwh-yectB"
      },
      "source": [
        "> Even though it requires a higher number of iterations to reach the minima than typical Gradient Descent, it is still computationally much less expensive than typical Gradient Descent.\n",
        "\n",
        "### <font color = #DB7093>Advantages of SGD</font>\n",
        "1. Decreases overfitting by focusing on only a portion of the training set each step.\n",
        "2. Memory requirement less than Gradient Descent.\n",
        "\n",
        "### <font color = #DB7093>Disadvantages of SGD</font>\n",
        "1. May stuck at local minima.\n",
        "2. May take too long to complete one epoch."
      ]
    },
    {
      "cell_type": "markdown",
      "metadata": {
        "id": "6oxFJm3Mss7b"
      },
      "source": [
        "<img src = \"https://www.sciencemag.org/sites/default/files/styles/inline__450w__no_aspect/public/ma_0504_NID_alchemy_WEB.jpg?itok=OzWhcdrK\" align = 'right' width = 650>"
      ]
    },
    {
      "cell_type": "markdown",
      "metadata": {
        "id": "kzdQf9eLkDvg"
      },
      "source": [
        "# <font color = #DB7093>2. Mini Batch Stochastic Gradient Descent</font>\n",
        "\n",
        "We know about Gradient Descent, and Stochastic Gradient Descent. Let's go over it again. Then I will mention about Batch Gradient Descent which I want you to know.\n",
        "\n",
        "**Gradient Descent** basically performs an improvement process by examining the errors on the data set whose training has been completed.\n",
        "\n",
        "**Stochastic Gradient Descent**, instead of using the entire data set in each process step, it performs the optimization process with the random data it receives from the data.\n",
        "\n",
        "**Batch Gradient Descent** is a variation of the gradient descent algorithm that calculates the error for each example in the training dataset, but only updates the model after all training examples have been evaluated.[[1]](https://machinelearningmastery.com/gentle-introduction-mini-batch-gradient-descent-configure-batch-size/)\n",
        "\n",
        "Mini-Batch Gradient Descent is a variation of the gradient descent algorithm that splits the training dataset into small batches that are used to calculate model error and update model coefficients.[[2]](https://machinelearningmastery.com/gentle-introduction-mini-batch-gradient-descent-configure-batch-size/)\n",
        "MB-SGD algorithm is an extension of the SGD algorithm and it overcomes the problem of large time complexity in the case of the SGD algorithm. MB-SGD algorithm takes a batch of points or subset of points from the dataset to compute derivate.\n",
        "\n",
        "It is observed that the derivative of the loss function for MB-SGD is almost the same as a derivate of the loss function for GD after some number of iterations. But the number of iterations to achieve minima is large for MB-SGD compared to GD and the cost of computation is also large.[[3]](https://machinelearningmastery.com/gentle-introduction-mini-batch-gradient-descent-configure-batch-size/)"
      ]
    },
    {
      "cell_type": "markdown",
      "metadata": {
        "id": "nso0XPCrtYYr"
      },
      "source": [
        "![image](https://datascience-enthusiast.com/figures/kiank_minibatch.png)"
      ]
    },
    {
      "cell_type": "markdown",
      "metadata": {
        "id": "2nnl22wmt2K1"
      },
      "source": [
        "###<font color = #DB7093>Advantages of MB-SGD</font>\n",
        "\n",
        "1. It takes less time to reach the minima compared to the SGD algorithm.\n",
        "2. More efficient computationally than SGD.\n",
        "\n",
        "###<font color = #DB7093>Disadvantages of MB-SGD</font>\n",
        "\n",
        "1. May get stuck at local minima.\n",
        "2. Mini-batch requires the configuration of an additional “mini-batch size” hyperparameter for the learning algorithm.[[4]](https://machinelearningmastery.com/gentle-introduction-mini-batch-gradient-descent-configure-batch-size/)"
      ]
    },
    {
      "cell_type": "markdown",
      "metadata": {
        "id": "Vc_78JKywqzw"
      },
      "source": [
        "# <font color = #DB7093>3. Momentum</font>\n",
        "\n",
        "Since the MB-SGD will update the parameters while making each iteration, the path it will take will be oscillating. Momentum also takes into account previous gradients to update parameters.\n",
        "\n",
        "A major disadvantage of the MB-SGD algorithm is that updates of weight are very noisy. SGD with momentum overcomes this disadvantage by denoising the gradients. Updates of weight are dependent on noisy derivative and if we somehow denoise the derivatives then converging time will decrease. The idea is to denoise derivative using exponential weighting average that is to give more weightage to recent updates compared to the previous update. It accelerates the convergence towards the relevant direction and reduces the fluctuation to the irrelevant direction. One more hyperparameter is used in this method known as momentum symbolized by ‘γ’.[[5]](https://www.kdnuggets.com/2020/12/optimization-algorithms-neural-networks.html)\n",
        "\n",
        "\n",
        "\n",
        "```\n",
        "V(t) = γ.V(t−1) + α.∂(J(θ))/∂θ\n",
        "```"
      ]
    },
    {
      "cell_type": "markdown",
      "metadata": {
        "id": "RlQEw7TMUawD"
      },
      "source": [
        "![image](https://miro.medium.com/max/1684/0*TKxSMrG2xPLtcRVy.png)"
      ]
    },
    {
      "cell_type": "markdown",
      "metadata": {
        "id": "62Qlj3PeUr7f"
      },
      "source": [
        ">***The momentum term γ is usually set to 0.9 or a similar value. Momentum at time ‘t’ is computed using all previous updates giving more weightage to recent updates compared to the previous update. This leads to speed up the convergence.***\n",
        "\n",
        "You can think of it simply as a ball falling from the hill. Its speed will change according to the direction of the slope of the hill."
      ]
    },
    {
      "cell_type": "markdown",
      "metadata": {
        "id": "-L5-PAedV-wK"
      },
      "source": [
        "# <font color = #DB7093>4. AdaGrad</font>\n",
        "\n",
        "While other optimization algorithms keep the learning rate constant, AdaGrad assigns the adaptive learning rate according to the weights. It performs smaller updates for parameters associated with frequently occurring features, while larger updates for parameters associated with infrequent features. So that, this algorithm is well-suited for sparse data. AdaGrad used for training large-scale neural nets at Google. Also, AdaGrad used to train GloVe word embeddings, as infrequent words require much larger updates than frequent ones.[[6]](https://ruder.io/optimizing-gradient-descent/index.html#adagrad)\n",
        "\n",
        "I will not go into the mathematics of this too much. If you want to learn more about that topic, you can read more at Source 6.\n",
        "\n",
        "###<font color = #DB7093>Advantages of AdaGrad</font>\n",
        "\n",
        "1. No need to update the learning rate since it changes manually.\n",
        "\n",
        "###<font color = #DB7093>Disadvantages of AdaGrad</font>\n",
        "\n",
        "1. As the number of iteration becomes very large learning rate decreases to a very small number which leads to slow convergence."
      ]
    },
    {
      "cell_type": "markdown",
      "metadata": {
        "id": "jU34XOHO5XuL"
      },
      "source": [
        "# <font color = #DB7093>5. AdaDelta</font>\n",
        "\n",
        "With AdaGrad, it takes too long to converge to the minima as the learning rate becomes very small as the number of iterations increases. AdaDelta adapts learning rates based on a moving window of gradient updates, instead of accumulating all past gradients. This way, AdaDelta continues learning even when many updates have been done. Compared to Adagrad, in the original version of AdaDelta, you don't have to set an initial learning rate.\n",
        "\n",
        "**With Adadelta, we do not even need to set a default learning rate, as it has been eliminated from the update rule.**\n",
        "\n",
        "![image](https://static.wixstatic.com/media/3eee0b_8cc49dda563f4ea8b0ba5f3fd93cc1e7~mv2.png/v1/fill/w_567,h_319,al_c,q_90/3eee0b_8cc49dda563f4ea8b0ba5f3fd93cc1e7~mv2.webp)"
      ]
    },
    {
      "cell_type": "markdown",
      "metadata": {
        "id": "qz3gDomxVaov"
      },
      "source": [
        "# <font color = #DB7093>6. RMSprop</font>\n",
        "\n",
        "RMSprop is an unpublished, adaptive learning rate method proposed by Geoff Hinton in Lecture 6e of his Coursera Class. RMSprop divides the learning rate by an exponentially decaying average of squared gradients. Hinton suggests γ be set to 0.9, while a good default value for the learning rate η is 0.001. RMSprop developed from the need to resolve Adagrad's radically decreasing learning rates.\n",
        "\n",
        "![image](https://static.wixstatic.com/media/3eee0b_31813f3012f942dd898a19541290d057~mv2.png/v1/fill/w_360,h_111,al_c,lg_1,q_90/3eee0b_31813f3012f942dd898a19541290d057~mv2.webp)"
      ]
    },
    {
      "cell_type": "markdown",
      "metadata": {
        "id": "8GDSob9fW58s"
      },
      "source": [
        "# <font color = #DB7093>7. ADAM</font>\n",
        "\n",
        "Adam can be looked at as a combination of RMSprop and Stochastic Gradient Descent with momentum. Adam computes adaptive learning rates for each parameter. In addition to storing an exponentially decaying average of past squared gradients vt like Adadelta and RMSprop, Adam also keeps an exponentially decaying average of past gradients mt, similar to momentum. Whereas momentum can be seen as a ball running down a slope, Adam behaves like a heavy ball with friction, which thus prefers flat minima in the error surface.\n",
        "Hyper-parameters β1, β2 ∈ [0, 1) control the exponential decay rates of these moving averages. We compute the decaying averages of past and past squared gradients mt and vt respectively as follows: [[7]](https://www.kdnuggets.com/2020/12/optimization-algorithms-neural-networks.html)\n",
        "\n",
        "![image](https://static.wixstatic.com/media/3eee0b_5b6c5b13eeb146778700cc6fd9a0df6e~mv2.png/v1/fill/w_360,h_129,al_c,lg_1,q_90/3eee0b_5b6c5b13eeb146778700cc6fd9a0df6e~mv2.webp)\n",
        "\n"
      ]
    },
    {
      "cell_type": "markdown",
      "metadata": {
        "id": "u8QHfM9Oqgov"
      },
      "source": [
        "### **Implementation Time!**"
      ]
    },
    {
      "cell_type": "markdown",
      "metadata": {
        "id": "hsrUyvsTbGV7"
      },
      "source": [
        "Now, it's time for implementation. We soon to see, and understand the differences between optimization algorithms.\n",
        "\n",
        "We will use MNIST dataset for this part.\n",
        "\n",
        "> **This work were taken from [here](https://github.com/ayyucekizrak/Keras_ile_Derin_Ogrenmeye_Giris/blob/master/B%C3%B6l%C3%BCm4/Optimizasyon_Y%C3%B6ntemlerinin_Kar%C5%9F%C4%B1la%C5%9Ft%C4%B1rmas%C4%B1.ipynb).**"
      ]
    },
    {
      "cell_type": "code",
      "metadata": {
        "id": "YGAbqmDybfrU"
      },
      "source": [
        "# importing libraries\n",
        "\n",
        "import keras\n",
        "from keras.datasets import mnist\n",
        "from keras.models import load_model\n",
        "from keras.models import Sequential\n",
        "from keras.layers import Dense, Dropout, Flatten\n",
        "from keras. layers import Conv2D, MaxPooling2D\n",
        "from keras import backend as K\n",
        "from keras import optimizers\n",
        "from keras.callbacks import ReduceLROnPlateau\n",
        "\n",
        "import tensorflow  as tf\n",
        "from keras.layers import *\n",
        "\n",
        "import matplotlib.pyplot as plt"
      ],
      "execution_count": null,
      "outputs": []
    },
    {
      "cell_type": "code",
      "metadata": {
        "id": "JX_UdyNxBPLE"
      },
      "source": [
        "plt.style.use('seaborn-darkgrid')"
      ],
      "execution_count": null,
      "outputs": []
    },
    {
      "cell_type": "code",
      "metadata": {
        "colab": {
          "base_uri": "https://localhost:8080/"
        },
        "id": "vVLiVGQwcj9L",
        "outputId": "a755deb0-8e27-423d-916e-7813d78474b0"
      },
      "source": [
        "# download dataset\n",
        "\n",
        "(x_train, y_train), (x_test, y_test) = mnist.load_data()"
      ],
      "execution_count": null,
      "outputs": [
        {
          "output_type": "stream",
          "text": [
            "Downloading data from https://storage.googleapis.com/tensorflow/tf-keras-datasets/mnist.npz\n",
            "11493376/11490434 [==============================] - 0s 0us/step\n"
          ],
          "name": "stdout"
        }
      ]
    },
    {
      "cell_type": "code",
      "metadata": {
        "id": "sWSV-MWyiyD2"
      },
      "source": [
        "reduce_lr = ReduceLROnPlateau(monitor='val_loss', factor=0.2, patience=5, min_lr=1e-5)"
      ],
      "execution_count": null,
      "outputs": []
    },
    {
      "cell_type": "code",
      "metadata": {
        "id": "zNKnkAp5cjnB"
      },
      "source": [
        "# setting necessary parameters\n",
        "\n",
        "batch_size = 128\n",
        "num_classes = 10\n",
        "epochs = 20\n",
        "w_l2 = 1e-5"
      ],
      "execution_count": null,
      "outputs": []
    },
    {
      "cell_type": "code",
      "metadata": {
        "colab": {
          "base_uri": "https://localhost:8080/"
        },
        "id": "FbuOk8YlcjXC",
        "outputId": "d65fb38e-76a7-4c6b-b70c-bb9a736ed951"
      },
      "source": [
        "img_rows, img_cols = 28, 28\n",
        "\n",
        "if K.image_data_format() == 'channels_first' :\n",
        "  x_train = x_train.reshape(x_train.shape[0], img_rows, img_cols)\n",
        "  x_test = x_test.reshape(x_test.shape[0], img_rows, img_cols)\n",
        "  input_shape = (1, img_rows, img_cols)\n",
        "\n",
        "else:\n",
        "  x_train = x_train.reshape(x_train.shape[0], img_rows, img_cols, 1)\n",
        "  x_test = x_test.reshape(x_test.shape[0], img_rows, img_cols, 1)\n",
        "  input_shape = (img_rows, img_cols, 1)\n",
        "\n",
        "x_train = x_train.astype('float32')\n",
        "x_test = x_test.astype('float32')\n",
        "\n",
        "x_train /= 255\n",
        "x_test /= 255\n",
        "\n",
        "print(f\"x_train shape : {x_train.shape}\")\n",
        "print(x_train.shape[0], 'train samples')\n",
        "print(x_test.shape[0], 'test samples')\n",
        "\n",
        "# converting class vectors to binary class matrices\n",
        "\n",
        "y_train = keras.utils.to_categorical(y_train, num_classes)\n",
        "y_test = keras.utils.to_categorical(y_test, num_classes)"
      ],
      "execution_count": null,
      "outputs": [
        {
          "output_type": "stream",
          "text": [
            "x_train shape : (60000, 28, 28, 1)\n",
            "60000 train samples\n",
            "10000 test samples\n"
          ],
          "name": "stdout"
        }
      ]
    },
    {
      "cell_type": "code",
      "metadata": {
        "id": "L3xxJKt2ffn6"
      },
      "source": [
        "# building conventional neural networks\n",
        "\n",
        "from keras import regularizers\n",
        "\n",
        "model = Sequential()\n",
        "\n",
        "model.add(Conv2D(32, kernel_size=(3, 3),  kernel_regularizer=regularizers.l2(w_l2),\n",
        "                 input_shape=input_shape))\n",
        "model.add(BatchNormalization())\n",
        "model.add(Activation('relu'))\n",
        "model.add(Conv2D(64, (3, 3),  kernel_regularizer=regularizers.l2(w_l2)))\n",
        "model.add(BatchNormalization())\n",
        "model.add(Activation('relu'))\n",
        "model.add(MaxPooling2D(pool_size=(2, 2)))\n",
        "model.add(Dropout(0.25))\n",
        "model.add(Flatten())\n",
        "model.add(Dense(128, kernel_regularizer=regularizers.l2(w_l2)))\n",
        "model.add(BatchNormalization())\n",
        "model.add(Activation('relu'))\n",
        "model.add(Dropout(0.5))\n",
        "model.add(Dense(num_classes, activation='softmax'))"
      ],
      "execution_count": null,
      "outputs": []
    },
    {
      "cell_type": "code",
      "metadata": {
        "colab": {
          "base_uri": "https://localhost:8080/"
        },
        "id": "mSjhx1ygh5iW",
        "outputId": "a67079e7-7a42-43e0-a9d3-1ec00920a8a8"
      },
      "source": [
        "# SGD\n",
        "\n",
        "model.compile(loss = keras.losses.categorical_crossentropy, optimizer = keras.optimizers.SGD(),\n",
        "              metrics = ['accuracy'])\n",
        "\n",
        "model.summary()"
      ],
      "execution_count": null,
      "outputs": [
        {
          "output_type": "stream",
          "text": [
            "Model: \"sequential\"\n",
            "_________________________________________________________________\n",
            "Layer (type)                 Output Shape              Param #   \n",
            "=================================================================\n",
            "conv2d (Conv2D)              (None, 26, 26, 32)        320       \n",
            "_________________________________________________________________\n",
            "batch_normalization (BatchNo (None, 26, 26, 32)        128       \n",
            "_________________________________________________________________\n",
            "activation (Activation)      (None, 26, 26, 32)        0         \n",
            "_________________________________________________________________\n",
            "conv2d_1 (Conv2D)            (None, 24, 24, 64)        18496     \n",
            "_________________________________________________________________\n",
            "batch_normalization_1 (Batch (None, 24, 24, 64)        256       \n",
            "_________________________________________________________________\n",
            "activation_1 (Activation)    (None, 24, 24, 64)        0         \n",
            "_________________________________________________________________\n",
            "max_pooling2d (MaxPooling2D) (None, 12, 12, 64)        0         \n",
            "_________________________________________________________________\n",
            "dropout (Dropout)            (None, 12, 12, 64)        0         \n",
            "_________________________________________________________________\n",
            "flatten (Flatten)            (None, 9216)              0         \n",
            "_________________________________________________________________\n",
            "dense (Dense)                (None, 128)               1179776   \n",
            "_________________________________________________________________\n",
            "batch_normalization_2 (Batch (None, 128)               512       \n",
            "_________________________________________________________________\n",
            "activation_2 (Activation)    (None, 128)               0         \n",
            "_________________________________________________________________\n",
            "dropout_1 (Dropout)          (None, 128)               0         \n",
            "_________________________________________________________________\n",
            "dense_1 (Dense)              (None, 10)                1290      \n",
            "=================================================================\n",
            "Total params: 1,200,778\n",
            "Trainable params: 1,200,330\n",
            "Non-trainable params: 448\n",
            "_________________________________________________________________\n"
          ],
          "name": "stdout"
        }
      ]
    },
    {
      "cell_type": "code",
      "metadata": {
        "colab": {
          "base_uri": "https://localhost:8080/"
        },
        "id": "DsKIiKUqiOc1",
        "outputId": "b3b7b4fd-d6cc-42dd-dd54-e2f0563f7e2d"
      },
      "source": [
        "# training the model\n",
        "\n",
        "hist_SGD = model.fit(x_train, y_train, batch_size = batch_size, epochs = epochs, verbose = 1,\n",
        "                     validation_data = (x_test, y_test), callbacks = [reduce_lr])\n",
        "\n",
        "score = model.evaluate(x_test, y_test, verbose = 0)\n",
        "\n",
        "print('Test loss: ', score[0])\n",
        "print('Test accuracy: ', score[1])"
      ],
      "execution_count": null,
      "outputs": [
        {
          "output_type": "stream",
          "text": [
            "Epoch 1/20\n",
            "469/469 [==============================] - 11s 8ms/step - loss: 0.7708 - accuracy: 0.7695 - val_loss: 0.4075 - val_accuracy: 0.9085\n",
            "Epoch 2/20\n",
            "469/469 [==============================] - 3s 7ms/step - loss: 0.2269 - accuracy: 0.9427 - val_loss: 0.0955 - val_accuracy: 0.9767\n",
            "Epoch 3/20\n",
            "469/469 [==============================] - 3s 7ms/step - loss: 0.1708 - accuracy: 0.9565 - val_loss: 0.0783 - val_accuracy: 0.9804\n",
            "Epoch 4/20\n",
            "469/469 [==============================] - 3s 7ms/step - loss: 0.1424 - accuracy: 0.9641 - val_loss: 0.0691 - val_accuracy: 0.9822\n",
            "Epoch 5/20\n",
            "469/469 [==============================] - 3s 7ms/step - loss: 0.1301 - accuracy: 0.9667 - val_loss: 0.0616 - val_accuracy: 0.9841\n",
            "Epoch 6/20\n",
            "469/469 [==============================] - 3s 7ms/step - loss: 0.1128 - accuracy: 0.9723 - val_loss: 0.0549 - val_accuracy: 0.9858\n",
            "Epoch 7/20\n",
            "469/469 [==============================] - 3s 7ms/step - loss: 0.1091 - accuracy: 0.9713 - val_loss: 0.0521 - val_accuracy: 0.9867\n",
            "Epoch 8/20\n",
            "469/469 [==============================] - 3s 7ms/step - loss: 0.1015 - accuracy: 0.9726 - val_loss: 0.0491 - val_accuracy: 0.9869\n",
            "Epoch 9/20\n",
            "469/469 [==============================] - 3s 7ms/step - loss: 0.0902 - accuracy: 0.9756 - val_loss: 0.0477 - val_accuracy: 0.9876\n",
            "Epoch 10/20\n",
            "469/469 [==============================] - 3s 7ms/step - loss: 0.0864 - accuracy: 0.9775 - val_loss: 0.0454 - val_accuracy: 0.9881\n",
            "Epoch 11/20\n",
            "469/469 [==============================] - 3s 7ms/step - loss: 0.0833 - accuracy: 0.9776 - val_loss: 0.0448 - val_accuracy: 0.9880\n",
            "Epoch 12/20\n",
            "469/469 [==============================] - 3s 7ms/step - loss: 0.0794 - accuracy: 0.9792 - val_loss: 0.0427 - val_accuracy: 0.9891\n",
            "Epoch 13/20\n",
            "469/469 [==============================] - 3s 7ms/step - loss: 0.0766 - accuracy: 0.9796 - val_loss: 0.0435 - val_accuracy: 0.9887\n",
            "Epoch 14/20\n",
            "469/469 [==============================] - 3s 7ms/step - loss: 0.0744 - accuracy: 0.9803 - val_loss: 0.0407 - val_accuracy: 0.9883\n",
            "Epoch 15/20\n",
            "469/469 [==============================] - 3s 7ms/step - loss: 0.0701 - accuracy: 0.9809 - val_loss: 0.0390 - val_accuracy: 0.9887\n",
            "Epoch 16/20\n",
            "469/469 [==============================] - 3s 7ms/step - loss: 0.0710 - accuracy: 0.9803 - val_loss: 0.0397 - val_accuracy: 0.9887\n",
            "Epoch 17/20\n",
            "469/469 [==============================] - 3s 7ms/step - loss: 0.0691 - accuracy: 0.9814 - val_loss: 0.0380 - val_accuracy: 0.9889\n",
            "Epoch 18/20\n",
            "469/469 [==============================] - 3s 7ms/step - loss: 0.0661 - accuracy: 0.9820 - val_loss: 0.0394 - val_accuracy: 0.9887\n",
            "Epoch 19/20\n",
            "469/469 [==============================] - 3s 7ms/step - loss: 0.0642 - accuracy: 0.9836 - val_loss: 0.0365 - val_accuracy: 0.9894\n",
            "Epoch 20/20\n",
            "469/469 [==============================] - 3s 7ms/step - loss: 0.0622 - accuracy: 0.9833 - val_loss: 0.0350 - val_accuracy: 0.9894\n",
            "Test loss:  0.03502997010946274\n",
            "Test accuracy:  0.9894000291824341\n"
          ],
          "name": "stdout"
        }
      ]
    },
    {
      "cell_type": "code",
      "metadata": {
        "id": "ClPgOT50iOVi",
        "colab": {
          "base_uri": "https://localhost:8080/"
        },
        "outputId": "fe4f24ce-c5c5-4bf3-cb14-dcee89f7f302"
      },
      "source": [
        "# ADAM\n",
        "\n",
        "model.compile(loss = keras.losses.categorical_crossentropy, optimizer = keras.optimizers.Adam(),\n",
        "              metrics = ['accuracy'])\n",
        "\n",
        "model.summary()"
      ],
      "execution_count": null,
      "outputs": [
        {
          "output_type": "stream",
          "text": [
            "Model: \"sequential\"\n",
            "_________________________________________________________________\n",
            "Layer (type)                 Output Shape              Param #   \n",
            "=================================================================\n",
            "conv2d (Conv2D)              (None, 26, 26, 32)        320       \n",
            "_________________________________________________________________\n",
            "batch_normalization (BatchNo (None, 26, 26, 32)        128       \n",
            "_________________________________________________________________\n",
            "activation (Activation)      (None, 26, 26, 32)        0         \n",
            "_________________________________________________________________\n",
            "conv2d_1 (Conv2D)            (None, 24, 24, 64)        18496     \n",
            "_________________________________________________________________\n",
            "batch_normalization_1 (Batch (None, 24, 24, 64)        256       \n",
            "_________________________________________________________________\n",
            "activation_1 (Activation)    (None, 24, 24, 64)        0         \n",
            "_________________________________________________________________\n",
            "max_pooling2d (MaxPooling2D) (None, 12, 12, 64)        0         \n",
            "_________________________________________________________________\n",
            "dropout (Dropout)            (None, 12, 12, 64)        0         \n",
            "_________________________________________________________________\n",
            "flatten (Flatten)            (None, 9216)              0         \n",
            "_________________________________________________________________\n",
            "dense (Dense)                (None, 128)               1179776   \n",
            "_________________________________________________________________\n",
            "batch_normalization_2 (Batch (None, 128)               512       \n",
            "_________________________________________________________________\n",
            "activation_2 (Activation)    (None, 128)               0         \n",
            "_________________________________________________________________\n",
            "dropout_1 (Dropout)          (None, 128)               0         \n",
            "_________________________________________________________________\n",
            "dense_1 (Dense)              (None, 10)                1290      \n",
            "=================================================================\n",
            "Total params: 1,200,778\n",
            "Trainable params: 1,200,330\n",
            "Non-trainable params: 448\n",
            "_________________________________________________________________\n"
          ],
          "name": "stdout"
        }
      ]
    },
    {
      "cell_type": "code",
      "metadata": {
        "colab": {
          "base_uri": "https://localhost:8080/"
        },
        "id": "XDkcH6JZzJnv",
        "outputId": "5f147acc-d598-424b-8984-966e69fdcf95"
      },
      "source": [
        "# training the model\n",
        "\n",
        "hist_adam = model.fit(x_train, y_train, batch_size = batch_size, epochs = epochs,\n",
        "                      verbose = 1, validation_data = (x_test, y_test), callbacks = [reduce_lr])\n",
        "\n",
        "score = model.evaluate(x_test, y_test, verbose = 0)\n",
        "\n",
        "print('Test loss:', score[0])\n",
        "print('Test accuracy:', score[1])"
      ],
      "execution_count": null,
      "outputs": [
        {
          "output_type": "stream",
          "text": [
            "Epoch 1/20\n",
            "469/469 [==============================] - 4s 8ms/step - loss: 0.1058 - accuracy: 0.9690 - val_loss: 0.0505 - val_accuracy: 0.9857\n",
            "Epoch 2/20\n",
            "469/469 [==============================] - 3s 7ms/step - loss: 0.0710 - accuracy: 0.9810 - val_loss: 0.0415 - val_accuracy: 0.9893\n",
            "Epoch 3/20\n",
            "469/469 [==============================] - 3s 7ms/step - loss: 0.0602 - accuracy: 0.9836 - val_loss: 0.0393 - val_accuracy: 0.9899\n",
            "Epoch 4/20\n",
            "469/469 [==============================] - 3s 7ms/step - loss: 0.0517 - accuracy: 0.9880 - val_loss: 0.0399 - val_accuracy: 0.9907\n",
            "Epoch 5/20\n",
            "469/469 [==============================] - 3s 7ms/step - loss: 0.0491 - accuracy: 0.9881 - val_loss: 0.0391 - val_accuracy: 0.9915\n",
            "Epoch 6/20\n",
            "469/469 [==============================] - 3s 7ms/step - loss: 0.0465 - accuracy: 0.9893 - val_loss: 0.0417 - val_accuracy: 0.9909\n",
            "Epoch 7/20\n",
            "469/469 [==============================] - 3s 7ms/step - loss: 0.0441 - accuracy: 0.9912 - val_loss: 0.0446 - val_accuracy: 0.9901\n",
            "Epoch 8/20\n",
            "469/469 [==============================] - 3s 7ms/step - loss: 0.0481 - accuracy: 0.9904 - val_loss: 0.0419 - val_accuracy: 0.9926\n",
            "Epoch 9/20\n",
            "469/469 [==============================] - 3s 7ms/step - loss: 0.0425 - accuracy: 0.9927 - val_loss: 0.0432 - val_accuracy: 0.9923\n",
            "Epoch 10/20\n",
            "469/469 [==============================] - 3s 7ms/step - loss: 0.0424 - accuracy: 0.9936 - val_loss: 0.0443 - val_accuracy: 0.9927\n",
            "Epoch 11/20\n",
            "469/469 [==============================] - 3s 7ms/step - loss: 0.0387 - accuracy: 0.9942 - val_loss: 0.0423 - val_accuracy: 0.9927\n",
            "Epoch 12/20\n",
            "469/469 [==============================] - 3s 7ms/step - loss: 0.0337 - accuracy: 0.9955 - val_loss: 0.0398 - val_accuracy: 0.9941\n",
            "Epoch 13/20\n",
            "469/469 [==============================] - 3s 7ms/step - loss: 0.0316 - accuracy: 0.9964 - val_loss: 0.0398 - val_accuracy: 0.9936\n",
            "Epoch 14/20\n",
            "469/469 [==============================] - 3s 7ms/step - loss: 0.0313 - accuracy: 0.9965 - val_loss: 0.0396 - val_accuracy: 0.9929\n",
            "Epoch 15/20\n",
            "469/469 [==============================] - 3s 7ms/step - loss: 0.0286 - accuracy: 0.9970 - val_loss: 0.0389 - val_accuracy: 0.9931\n",
            "Epoch 16/20\n",
            "469/469 [==============================] - 3s 7ms/step - loss: 0.0267 - accuracy: 0.9976 - val_loss: 0.0381 - val_accuracy: 0.9932\n",
            "Epoch 17/20\n",
            "469/469 [==============================] - 3s 7ms/step - loss: 0.0271 - accuracy: 0.9975 - val_loss: 0.0393 - val_accuracy: 0.9925\n",
            "Epoch 18/20\n",
            "469/469 [==============================] - 3s 7ms/step - loss: 0.0266 - accuracy: 0.9976 - val_loss: 0.0393 - val_accuracy: 0.9930\n",
            "Epoch 19/20\n",
            "469/469 [==============================] - 3s 7ms/step - loss: 0.0259 - accuracy: 0.9974 - val_loss: 0.0394 - val_accuracy: 0.9927\n",
            "Epoch 20/20\n",
            "469/469 [==============================] - 3s 7ms/step - loss: 0.0241 - accuracy: 0.9978 - val_loss: 0.0383 - val_accuracy: 0.9929\n",
            "Test loss: 0.038254234939813614\n",
            "Test accuracy: 0.992900013923645\n"
          ],
          "name": "stdout"
        }
      ]
    },
    {
      "cell_type": "code",
      "metadata": {
        "colab": {
          "base_uri": "https://localhost:8080/"
        },
        "id": "GhqSi2mFzJUH",
        "outputId": "fddcda6e-d014-442b-c93c-d667fcab17f2"
      },
      "source": [
        "# RMSprop\n",
        "\n",
        "model.compile(loss = keras.losses.categorical_crossentropy, optimizer = keras.optimizers.RMSprop(),\n",
        "              metrics = ['accuracy'])\n",
        "\n",
        "model.summary()"
      ],
      "execution_count": null,
      "outputs": [
        {
          "output_type": "stream",
          "text": [
            "Model: \"sequential\"\n",
            "_________________________________________________________________\n",
            "Layer (type)                 Output Shape              Param #   \n",
            "=================================================================\n",
            "conv2d (Conv2D)              (None, 26, 26, 32)        320       \n",
            "_________________________________________________________________\n",
            "batch_normalization (BatchNo (None, 26, 26, 32)        128       \n",
            "_________________________________________________________________\n",
            "activation (Activation)      (None, 26, 26, 32)        0         \n",
            "_________________________________________________________________\n",
            "conv2d_1 (Conv2D)            (None, 24, 24, 64)        18496     \n",
            "_________________________________________________________________\n",
            "batch_normalization_1 (Batch (None, 24, 24, 64)        256       \n",
            "_________________________________________________________________\n",
            "activation_1 (Activation)    (None, 24, 24, 64)        0         \n",
            "_________________________________________________________________\n",
            "max_pooling2d (MaxPooling2D) (None, 12, 12, 64)        0         \n",
            "_________________________________________________________________\n",
            "dropout (Dropout)            (None, 12, 12, 64)        0         \n",
            "_________________________________________________________________\n",
            "flatten (Flatten)            (None, 9216)              0         \n",
            "_________________________________________________________________\n",
            "dense (Dense)                (None, 128)               1179776   \n",
            "_________________________________________________________________\n",
            "batch_normalization_2 (Batch (None, 128)               512       \n",
            "_________________________________________________________________\n",
            "activation_2 (Activation)    (None, 128)               0         \n",
            "_________________________________________________________________\n",
            "dropout_1 (Dropout)          (None, 128)               0         \n",
            "_________________________________________________________________\n",
            "dense_1 (Dense)              (None, 10)                1290      \n",
            "=================================================================\n",
            "Total params: 1,200,778\n",
            "Trainable params: 1,200,330\n",
            "Non-trainable params: 448\n",
            "_________________________________________________________________\n"
          ],
          "name": "stdout"
        }
      ]
    },
    {
      "cell_type": "code",
      "metadata": {
        "colab": {
          "base_uri": "https://localhost:8080/"
        },
        "id": "yJpUjX9t00Sb",
        "outputId": "2d80cab3-1c2d-4600-f05a-b89aec398e3c"
      },
      "source": [
        "hist_RMSprob=model.fit(x_train, y_train,\n",
        "          batch_size=batch_size,\n",
        "          epochs=epochs,\n",
        "          verbose=1,\n",
        "          validation_data=(x_test, y_test), callbacks=[reduce_lr])\n",
        "score = model.evaluate(x_test, y_test, verbose=0)\n",
        "print('Test loss:', score[0])\n",
        "print('Test accuracy:', score[1])"
      ],
      "execution_count": null,
      "outputs": [
        {
          "output_type": "stream",
          "text": [
            "Epoch 1/20\n",
            "469/469 [==============================] - 5s 8ms/step - loss: 0.0294 - accuracy: 0.9956 - val_loss: 0.0498 - val_accuracy: 0.9910\n",
            "Epoch 2/20\n",
            "469/469 [==============================] - 4s 8ms/step - loss: 0.0324 - accuracy: 0.9938 - val_loss: 0.0513 - val_accuracy: 0.9904\n",
            "Epoch 3/20\n",
            "469/469 [==============================] - 4s 8ms/step - loss: 0.0362 - accuracy: 0.9936 - val_loss: 0.0526 - val_accuracy: 0.9913\n",
            "Epoch 4/20\n",
            "469/469 [==============================] - 4s 8ms/step - loss: 0.0418 - accuracy: 0.9931 - val_loss: 0.0602 - val_accuracy: 0.9906\n",
            "Epoch 5/20\n",
            "469/469 [==============================] - 4s 8ms/step - loss: 0.0416 - accuracy: 0.9936 - val_loss: 0.0670 - val_accuracy: 0.9881\n",
            "Epoch 6/20\n",
            "469/469 [==============================] - 4s 8ms/step - loss: 0.0434 - accuracy: 0.9933 - val_loss: 0.0683 - val_accuracy: 0.9892\n",
            "Epoch 7/20\n",
            "469/469 [==============================] - 4s 8ms/step - loss: 0.0430 - accuracy: 0.9938 - val_loss: 0.0500 - val_accuracy: 0.9929\n",
            "Epoch 8/20\n",
            "469/469 [==============================] - 4s 8ms/step - loss: 0.0396 - accuracy: 0.9949 - val_loss: 0.0515 - val_accuracy: 0.9925\n",
            "Epoch 9/20\n",
            "469/469 [==============================] - 4s 8ms/step - loss: 0.0342 - accuracy: 0.9959 - val_loss: 0.0485 - val_accuracy: 0.9924\n",
            "Epoch 10/20\n",
            "469/469 [==============================] - 4s 8ms/step - loss: 0.0323 - accuracy: 0.9967 - val_loss: 0.0505 - val_accuracy: 0.9926\n",
            "Epoch 11/20\n",
            "469/469 [==============================] - 4s 7ms/step - loss: 0.0318 - accuracy: 0.9965 - val_loss: 0.0457 - val_accuracy: 0.9930\n",
            "Epoch 12/20\n",
            "469/469 [==============================] - 4s 8ms/step - loss: 0.0290 - accuracy: 0.9973 - val_loss: 0.0501 - val_accuracy: 0.9927\n",
            "Epoch 13/20\n",
            "469/469 [==============================] - 4s 8ms/step - loss: 0.0305 - accuracy: 0.9963 - val_loss: 0.0480 - val_accuracy: 0.9927\n",
            "Epoch 14/20\n",
            "469/469 [==============================] - 4s 8ms/step - loss: 0.0302 - accuracy: 0.9968 - val_loss: 0.0514 - val_accuracy: 0.9925\n",
            "Epoch 15/20\n",
            "469/469 [==============================] - 4s 8ms/step - loss: 0.0287 - accuracy: 0.9971 - val_loss: 0.0471 - val_accuracy: 0.9926\n",
            "Epoch 16/20\n",
            "469/469 [==============================] - 4s 8ms/step - loss: 0.0271 - accuracy: 0.9973 - val_loss: 0.0475 - val_accuracy: 0.9926\n",
            "Epoch 17/20\n",
            "469/469 [==============================] - 4s 7ms/step - loss: 0.0271 - accuracy: 0.9973 - val_loss: 0.0452 - val_accuracy: 0.9929\n",
            "Epoch 18/20\n",
            "469/469 [==============================] - 4s 8ms/step - loss: 0.0274 - accuracy: 0.9976 - val_loss: 0.0453 - val_accuracy: 0.9925\n",
            "Epoch 19/20\n",
            "469/469 [==============================] - 4s 8ms/step - loss: 0.0258 - accuracy: 0.9977 - val_loss: 0.0448 - val_accuracy: 0.9927\n",
            "Epoch 20/20\n",
            "469/469 [==============================] - 4s 8ms/step - loss: 0.0260 - accuracy: 0.9977 - val_loss: 0.0446 - val_accuracy: 0.9928\n",
            "Test loss: 0.044570691883563995\n",
            "Test accuracy: 0.9927999973297119\n"
          ],
          "name": "stdout"
        }
      ]
    },
    {
      "cell_type": "code",
      "metadata": {
        "colab": {
          "base_uri": "https://localhost:8080/"
        },
        "id": "ZHY0s8__1VaG",
        "outputId": "d59a3dcc-a651-49a6-878c-48ba2f24694d"
      },
      "source": [
        "# AdaGrad\n",
        "\n",
        "model.compile(loss=keras.losses.categorical_crossentropy,\n",
        "              optimizer=keras.optimizers.Adagrad(),\n",
        "              metrics=['accuracy'])\n",
        "model.summary()"
      ],
      "execution_count": null,
      "outputs": [
        {
          "output_type": "stream",
          "text": [
            "Model: \"sequential\"\n",
            "_________________________________________________________________\n",
            "Layer (type)                 Output Shape              Param #   \n",
            "=================================================================\n",
            "conv2d (Conv2D)              (None, 26, 26, 32)        320       \n",
            "_________________________________________________________________\n",
            "batch_normalization (BatchNo (None, 26, 26, 32)        128       \n",
            "_________________________________________________________________\n",
            "activation (Activation)      (None, 26, 26, 32)        0         \n",
            "_________________________________________________________________\n",
            "conv2d_1 (Conv2D)            (None, 24, 24, 64)        18496     \n",
            "_________________________________________________________________\n",
            "batch_normalization_1 (Batch (None, 24, 24, 64)        256       \n",
            "_________________________________________________________________\n",
            "activation_1 (Activation)    (None, 24, 24, 64)        0         \n",
            "_________________________________________________________________\n",
            "max_pooling2d (MaxPooling2D) (None, 12, 12, 64)        0         \n",
            "_________________________________________________________________\n",
            "dropout (Dropout)            (None, 12, 12, 64)        0         \n",
            "_________________________________________________________________\n",
            "flatten (Flatten)            (None, 9216)              0         \n",
            "_________________________________________________________________\n",
            "dense (Dense)                (None, 128)               1179776   \n",
            "_________________________________________________________________\n",
            "batch_normalization_2 (Batch (None, 128)               512       \n",
            "_________________________________________________________________\n",
            "activation_2 (Activation)    (None, 128)               0         \n",
            "_________________________________________________________________\n",
            "dropout_1 (Dropout)          (None, 128)               0         \n",
            "_________________________________________________________________\n",
            "dense_1 (Dense)              (None, 10)                1290      \n",
            "=================================================================\n",
            "Total params: 1,200,778\n",
            "Trainable params: 1,200,330\n",
            "Non-trainable params: 448\n",
            "_________________________________________________________________\n"
          ],
          "name": "stdout"
        }
      ]
    },
    {
      "cell_type": "code",
      "metadata": {
        "colab": {
          "base_uri": "https://localhost:8080/"
        },
        "id": "-ng3MIr41VUQ",
        "outputId": "06683c27-3c4d-493e-c9bf-854ea959ce0d"
      },
      "source": [
        "hist_adagrad=model.fit(x_train, y_train,\n",
        "          batch_size=batch_size,\n",
        "          epochs=epochs,\n",
        "          verbose=1,\n",
        "          validation_data=(x_test, y_test), callbacks=[reduce_lr])\n",
        "score = model.evaluate(x_test, y_test, verbose=0)\n",
        "print('Test loss:', score[0])\n",
        "print('Test accuracy:', score[1])"
      ],
      "execution_count": null,
      "outputs": [
        {
          "output_type": "stream",
          "text": [
            "Epoch 1/20\n",
            "469/469 [==============================] - 4s 8ms/step - loss: 0.0245 - accuracy: 0.9978 - val_loss: 0.0456 - val_accuracy: 0.9926\n",
            "Epoch 2/20\n",
            "469/469 [==============================] - 3s 7ms/step - loss: 0.0268 - accuracy: 0.9973 - val_loss: 0.0454 - val_accuracy: 0.9927\n",
            "Epoch 3/20\n",
            "469/469 [==============================] - 3s 7ms/step - loss: 0.0267 - accuracy: 0.9976 - val_loss: 0.0451 - val_accuracy: 0.9927\n",
            "Epoch 4/20\n",
            "469/469 [==============================] - 3s 7ms/step - loss: 0.0254 - accuracy: 0.9975 - val_loss: 0.0450 - val_accuracy: 0.9929\n",
            "Epoch 5/20\n",
            "469/469 [==============================] - 3s 7ms/step - loss: 0.0261 - accuracy: 0.9971 - val_loss: 0.0449 - val_accuracy: 0.9928\n",
            "Epoch 6/20\n",
            "469/469 [==============================] - 3s 7ms/step - loss: 0.0249 - accuracy: 0.9976 - val_loss: 0.0452 - val_accuracy: 0.9928\n",
            "Epoch 7/20\n",
            "469/469 [==============================] - 3s 7ms/step - loss: 0.0263 - accuracy: 0.9979 - val_loss: 0.0450 - val_accuracy: 0.9929\n",
            "Epoch 8/20\n",
            "469/469 [==============================] - 3s 7ms/step - loss: 0.0260 - accuracy: 0.9973 - val_loss: 0.0451 - val_accuracy: 0.9927\n",
            "Epoch 9/20\n",
            "469/469 [==============================] - 3s 7ms/step - loss: 0.0266 - accuracy: 0.9973 - val_loss: 0.0450 - val_accuracy: 0.9929\n",
            "Epoch 10/20\n",
            "469/469 [==============================] - 3s 7ms/step - loss: 0.0260 - accuracy: 0.9977 - val_loss: 0.0450 - val_accuracy: 0.9930\n",
            "Epoch 11/20\n",
            "469/469 [==============================] - 3s 7ms/step - loss: 0.0267 - accuracy: 0.9971 - val_loss: 0.0450 - val_accuracy: 0.9930\n",
            "Epoch 12/20\n",
            "469/469 [==============================] - 3s 7ms/step - loss: 0.0258 - accuracy: 0.9976 - val_loss: 0.0451 - val_accuracy: 0.9929\n",
            "Epoch 13/20\n",
            "469/469 [==============================] - 3s 7ms/step - loss: 0.0253 - accuracy: 0.9976 - val_loss: 0.0450 - val_accuracy: 0.9929\n",
            "Epoch 14/20\n",
            "469/469 [==============================] - 3s 7ms/step - loss: 0.0267 - accuracy: 0.9976 - val_loss: 0.0451 - val_accuracy: 0.9929\n",
            "Epoch 15/20\n",
            "469/469 [==============================] - 3s 7ms/step - loss: 0.0269 - accuracy: 0.9973 - val_loss: 0.0449 - val_accuracy: 0.9929\n",
            "Epoch 16/20\n",
            "469/469 [==============================] - 3s 7ms/step - loss: 0.0273 - accuracy: 0.9973 - val_loss: 0.0450 - val_accuracy: 0.9929\n",
            "Epoch 17/20\n",
            "469/469 [==============================] - 3s 7ms/step - loss: 0.0252 - accuracy: 0.9980 - val_loss: 0.0451 - val_accuracy: 0.9930\n",
            "Epoch 18/20\n",
            "469/469 [==============================] - 3s 7ms/step - loss: 0.0251 - accuracy: 0.9976 - val_loss: 0.0450 - val_accuracy: 0.9929\n",
            "Epoch 19/20\n",
            "469/469 [==============================] - 3s 7ms/step - loss: 0.0251 - accuracy: 0.9979 - val_loss: 0.0450 - val_accuracy: 0.9929\n",
            "Epoch 20/20\n",
            "469/469 [==============================] - 3s 7ms/step - loss: 0.0275 - accuracy: 0.9973 - val_loss: 0.0451 - val_accuracy: 0.9929\n",
            "Test loss: 0.04510044679045677\n",
            "Test accuracy: 0.992900013923645\n"
          ],
          "name": "stdout"
        }
      ]
    },
    {
      "cell_type": "code",
      "metadata": {
        "colab": {
          "base_uri": "https://localhost:8080/"
        },
        "id": "_TVoXu-51VIL",
        "outputId": "1b31edcc-fc29-4a2a-c617-8cbbeac1c436"
      },
      "source": [
        "# AdaDelta\n",
        "\n",
        "model.compile(loss=keras.losses.categorical_crossentropy,\n",
        "              optimizer=keras.optimizers.Adadelta(),\n",
        "              metrics=['accuracy'])\n",
        "model.summary()"
      ],
      "execution_count": null,
      "outputs": [
        {
          "output_type": "stream",
          "text": [
            "Model: \"sequential\"\n",
            "_________________________________________________________________\n",
            "Layer (type)                 Output Shape              Param #   \n",
            "=================================================================\n",
            "conv2d (Conv2D)              (None, 26, 26, 32)        320       \n",
            "_________________________________________________________________\n",
            "batch_normalization (BatchNo (None, 26, 26, 32)        128       \n",
            "_________________________________________________________________\n",
            "activation (Activation)      (None, 26, 26, 32)        0         \n",
            "_________________________________________________________________\n",
            "conv2d_1 (Conv2D)            (None, 24, 24, 64)        18496     \n",
            "_________________________________________________________________\n",
            "batch_normalization_1 (Batch (None, 24, 24, 64)        256       \n",
            "_________________________________________________________________\n",
            "activation_1 (Activation)    (None, 24, 24, 64)        0         \n",
            "_________________________________________________________________\n",
            "max_pooling2d (MaxPooling2D) (None, 12, 12, 64)        0         \n",
            "_________________________________________________________________\n",
            "dropout (Dropout)            (None, 12, 12, 64)        0         \n",
            "_________________________________________________________________\n",
            "flatten (Flatten)            (None, 9216)              0         \n",
            "_________________________________________________________________\n",
            "dense (Dense)                (None, 128)               1179776   \n",
            "_________________________________________________________________\n",
            "batch_normalization_2 (Batch (None, 128)               512       \n",
            "_________________________________________________________________\n",
            "activation_2 (Activation)    (None, 128)               0         \n",
            "_________________________________________________________________\n",
            "dropout_1 (Dropout)          (None, 128)               0         \n",
            "_________________________________________________________________\n",
            "dense_1 (Dense)              (None, 10)                1290      \n",
            "=================================================================\n",
            "Total params: 1,200,778\n",
            "Trainable params: 1,200,330\n",
            "Non-trainable params: 448\n",
            "_________________________________________________________________\n"
          ],
          "name": "stdout"
        }
      ]
    },
    {
      "cell_type": "code",
      "metadata": {
        "colab": {
          "base_uri": "https://localhost:8080/"
        },
        "id": "7TEYF2RZ1U3l",
        "outputId": "1a7e97c0-f4ca-41eb-cb3d-791d0d2316f9"
      },
      "source": [
        "hist_adadelta = model.fit(x_train, y_train,\n",
        "          batch_size=batch_size,\n",
        "          epochs=epochs,\n",
        "          verbose=1,\n",
        "          validation_data=(x_test, y_test), callbacks=[reduce_lr])\n",
        "score = model.evaluate(x_test, y_test, verbose=0)\n",
        "print('Test loss:', score[0])\n",
        "print('Test accuracy:', score[1])"
      ],
      "execution_count": null,
      "outputs": [
        {
          "output_type": "stream",
          "text": [
            "Epoch 1/20\n",
            "469/469 [==============================] - 4s 8ms/step - loss: 0.0259 - accuracy: 0.9975 - val_loss: 0.0451 - val_accuracy: 0.9930\n",
            "Epoch 2/20\n",
            "469/469 [==============================] - 3s 7ms/step - loss: 0.0262 - accuracy: 0.9975 - val_loss: 0.0451 - val_accuracy: 0.9929\n",
            "Epoch 3/20\n",
            "469/469 [==============================] - 3s 7ms/step - loss: 0.0261 - accuracy: 0.9973 - val_loss: 0.0450 - val_accuracy: 0.9928\n",
            "Epoch 4/20\n",
            "469/469 [==============================] - 3s 7ms/step - loss: 0.0251 - accuracy: 0.9975 - val_loss: 0.0451 - val_accuracy: 0.9928\n",
            "Epoch 5/20\n",
            "469/469 [==============================] - 3s 7ms/step - loss: 0.0244 - accuracy: 0.9980 - val_loss: 0.0450 - val_accuracy: 0.9929\n",
            "Epoch 6/20\n",
            "469/469 [==============================] - 3s 7ms/step - loss: 0.0269 - accuracy: 0.9970 - val_loss: 0.0451 - val_accuracy: 0.9929\n",
            "Epoch 7/20\n",
            "469/469 [==============================] - 3s 7ms/step - loss: 0.0255 - accuracy: 0.9977 - val_loss: 0.0452 - val_accuracy: 0.9930\n",
            "Epoch 8/20\n",
            "469/469 [==============================] - 3s 7ms/step - loss: 0.0263 - accuracy: 0.9973 - val_loss: 0.0450 - val_accuracy: 0.9929\n",
            "Epoch 9/20\n",
            "469/469 [==============================] - 3s 7ms/step - loss: 0.0267 - accuracy: 0.9972 - val_loss: 0.0451 - val_accuracy: 0.9929\n",
            "Epoch 10/20\n",
            "469/469 [==============================] - 3s 7ms/step - loss: 0.0246 - accuracy: 0.9979 - val_loss: 0.0450 - val_accuracy: 0.9928\n",
            "Epoch 11/20\n",
            "469/469 [==============================] - 3s 7ms/step - loss: 0.0253 - accuracy: 0.9980 - val_loss: 0.0451 - val_accuracy: 0.9930\n",
            "Epoch 12/20\n",
            "469/469 [==============================] - 3s 7ms/step - loss: 0.0257 - accuracy: 0.9979 - val_loss: 0.0451 - val_accuracy: 0.9929\n",
            "Epoch 13/20\n",
            "469/469 [==============================] - 3s 7ms/step - loss: 0.0255 - accuracy: 0.9979 - val_loss: 0.0450 - val_accuracy: 0.9929\n",
            "Epoch 14/20\n",
            "469/469 [==============================] - 3s 7ms/step - loss: 0.0244 - accuracy: 0.9979 - val_loss: 0.0451 - val_accuracy: 0.9929\n",
            "Epoch 15/20\n",
            "469/469 [==============================] - 3s 7ms/step - loss: 0.0251 - accuracy: 0.9979 - val_loss: 0.0453 - val_accuracy: 0.9929\n",
            "Epoch 16/20\n",
            "469/469 [==============================] - 3s 7ms/step - loss: 0.0279 - accuracy: 0.9970 - val_loss: 0.0451 - val_accuracy: 0.9929\n",
            "Epoch 17/20\n",
            "469/469 [==============================] - 3s 7ms/step - loss: 0.0255 - accuracy: 0.9974 - val_loss: 0.0452 - val_accuracy: 0.9929\n",
            "Epoch 18/20\n",
            "469/469 [==============================] - 3s 7ms/step - loss: 0.0247 - accuracy: 0.9979 - val_loss: 0.0452 - val_accuracy: 0.9930\n",
            "Epoch 19/20\n",
            "469/469 [==============================] - 3s 7ms/step - loss: 0.0259 - accuracy: 0.9973 - val_loss: 0.0452 - val_accuracy: 0.9930\n",
            "Epoch 20/20\n",
            "469/469 [==============================] - 3s 7ms/step - loss: 0.0259 - accuracy: 0.9974 - val_loss: 0.0452 - val_accuracy: 0.9930\n",
            "Test loss: 0.045160770416259766\n",
            "Test accuracy: 0.9929999709129333\n"
          ],
          "name": "stdout"
        }
      ]
    },
    {
      "cell_type": "code",
      "metadata": {
        "id": "4L_XtyR04VTD"
      },
      "source": [
        "# I got some issues on the code below.\n",
        "# For Tensorflow 2+ 'acc' became 'accuracy'. That's why original code didn't work for me. I changed 'acc' to 'accuracy'.\n",
        "\n",
        "# Plotting the results\n",
        "\n",
        "def plot_history(hists, attribute='val_loss', axis=(-1,21,0.85,0.94), loc='lower right'):\n",
        "    ylabel = {'oss': 'loss', 'acy': 'accuracy'}\n",
        "    title = {'val_loss': 'valid. loss', 'loss': 'trn. loss', 'val_acc': 'valid. accuracy', 'accuracy': 'trn. accuracy'}\n",
        "    num_hists = len(hists)\n",
        "    \n",
        "    plt.figure(figsize=(12, 8))  \n",
        "    plt.axis(axis)\n",
        "    for i in range(num_hists):\n",
        "        plt.plot(hists[i].history[attribute])\n",
        "    plt.title(title[attribute])  \n",
        "    plt.ylabel(ylabel[attribute[-3:]])  \n",
        "    plt.xlabel('epoch')  \n",
        "    plt.legend(['ADAM', 'SGD', 'RMSprob', 'adadelta', 'adagrad'], loc=loc)  \n",
        "\n",
        "    plt.show()"
      ],
      "execution_count": null,
      "outputs": []
    },
    {
      "cell_type": "code",
      "metadata": {
        "id": "uIJ5KNqB4VJQ"
      },
      "source": [
        "hists = [hist_adam, hist_SGD, hist_RMSprob, hist_adadelta, hist_adagrad]"
      ],
      "execution_count": null,
      "outputs": []
    },
    {
      "cell_type": "code",
      "metadata": {
        "colab": {
          "base_uri": "https://localhost:8080/",
          "height": 508
        },
        "id": "ooLGDEF2CUzi",
        "outputId": "aee02a49-201f-483b-d61e-0ea3cb0749ec"
      },
      "source": [
        "plot_history(hists, attribute='accuracy', axis=(-1,21,0.965,1.0), loc='lower right')"
      ],
      "execution_count": null,
      "outputs": [
        {
          "output_type": "display_data",
          "data": {
            "image/png": "[encoded data removed]",
            "text/plain": [
              "<Figure size 864x576 with 1 Axes>"
            ]
          },
          "metadata": {
            "tags": []
          }
        }
      ]
    },
    {
      "cell_type": "code",
      "metadata": {
        "colab": {
          "base_uri": "https://localhost:8080/",
          "height": 508
        },
        "id": "nhpuD03l4kCf",
        "outputId": "c4c62226-6271-445b-cf4e-5b4d49681888"
      },
      "source": [
        "plot_history(hists, attribute='loss', axis=(-1,21,0.009, 0.09), loc='lower right')"
      ],
      "execution_count": null,
      "outputs": [
        {
          "output_type": "display_data",
          "data": {
            "image/png": "[encoded data removed]",
            "text/plain": [
              "<Figure size 864x576 with 1 Axes>"
            ]
          },
          "metadata": {
            "tags": []
          }
        }
      ]
    },
    {
      "cell_type": "markdown",
      "metadata": {
        "id": "sMlj1dncKo4k"
      },
      "source": [
        "**As you can see in the plots above, ADAM optimization is better than other optimizations with a little difference.**"
      ]
    },
    {
      "cell_type": "markdown",
      "metadata": {
        "id": "8bnsHzoJbZXo"
      },
      "source": [
        "# References\n",
        "\n",
        "[Source 1](https://d2l.ai/chapter_optimization/optimization-intro.html#optimization-and-estimation)\n",
        "\n",
        "[Source 2](https://www.kdnuggets.com/2020/12/optimization-algorithms-neural-networks.html)\n",
        "\n",
        "[Source 3](https://www.geeksforgeeks.org/ml-stochastic-gradient-descent-sgd/)\n",
        "\n",
        "[Source 4](https://datascience-enthusiast.com/DL/Optimization_methods.html)\n",
        "\n",
        "[Source 5](https://machinelearningmastery.com/gentle-introduction-mini-batch-gradient-descent-configure-batch-size/)\n",
        "\n",
        "[Source 6](https://ruder.io/optimizing-gradient-descent/index.html#adagrad)\n",
        "\n",
        "[Source 7](https://github.com/ayyucekizrak/Keras_ile_Derin_Ogrenmeye_Giris/blob/master/B%C3%B6l%C3%BCm4/Optimizasyon_Y%C3%B6ntemlerinin_Kar%C5%9F%C4%B1la%C5%9Ft%C4%B1rmas%C4%B1.ipynb)"
      ]
    }
  ]
}